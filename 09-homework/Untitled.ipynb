{
 "cells": [
  {
   "cell_type": "code",
   "execution_count": 1,
   "metadata": {},
   "outputs": [],
   "source": [
    "import pandas as pd\n",
    "import requests\n",
    "from bs4 import BeautifulSoup"
   ]
  },
  {
   "cell_type": "code",
   "execution_count": 2,
   "metadata": {},
   "outputs": [],
   "source": [
    "response = requests.get('https://www.epicurious.com/search/cucumbers')\n",
    "doc = BeautifulSoup(response.text) "
   ]
  },
  {
   "cell_type": "code",
   "execution_count": 3,
   "metadata": {},
   "outputs": [],
   "source": [
    "tags = doc.find('article', class_='recipe-content-card')"
   ]
  },
  {
   "cell_type": "code",
   "execution_count": 4,
   "metadata": {},
   "outputs": [
    {
     "data": {
      "text/plain": [
       "\"recipeSpicy Lightly Pickled CucumbersThese quick pickles have just the right amount of sweet, salt, and tang going on. The brine can work with any crunchy veg, but we like them best with cucumbers. We guarantee they'll be the sleeper hit of your next party spread.Average user rating4/4Reviews1Percentage of reviewers who will make this recipe again100%View “Spicy Lightly Pickled Cucumbers”View RecipeQuick viewCompare Recipe\""
      ]
     },
     "execution_count": 4,
     "metadata": {},
     "output_type": "execute_result"
    }
   ],
   "source": [
    "tags.text.strip()\n"
   ]
  },
  {
   "cell_type": "code",
   "execution_count": 5,
   "metadata": {},
   "outputs": [
    {
     "data": {
      "text/plain": [
       "'recipeCucumbers with Ajo Blanco SauceThink of this as an all-purpose garlic sauce. Once you get the hang of making it, try swapping cashews or blanched hazelnuts for the almonds.Average user rating4/4Reviews1Percentage of reviewers who will make this recipe again100%View “Cucumbers with Ajo Blanco Sauce”View RecipeQuick viewCompare Recipe'"
      ]
     },
     "execution_count": 5,
     "metadata": {},
     "output_type": "execute_result"
    }
   ],
   "source": [
    "looks = doc.find('article', class_='recipe-content-card').find_next_sibling()\n",
    "looks.text"
   ]
  },
  {
   "cell_type": "code",
   "execution_count": 6,
   "metadata": {},
   "outputs": [],
   "source": [
    "categories = doc.find('header', class_='summary')"
   ]
  },
  {
   "cell_type": "code",
   "execution_count": 7,
   "metadata": {},
   "outputs": [
    {
     "data": {
      "text/plain": [
       "\"recipeSpicy Lightly Pickled CucumbersThese quick pickles have just the right amount of sweet, salt, and tang going on. The brine can work with any crunchy veg, but we like them best with cucumbers. We guarantee they'll be the sleeper hit of your next party spread.Average user rating4/4Reviews1Percentage of reviewers who will make this recipe again100%\""
      ]
     },
     "execution_count": 7,
     "metadata": {},
     "output_type": "execute_result"
    }
   ],
   "source": [
    "categories.text"
   ]
  },
  {
   "cell_type": "code",
   "execution_count": 8,
   "metadata": {},
   "outputs": [
    {
     "name": "stdout",
     "output_type": "stream",
     "text": [
      "View “Spicy Lightly Pickled Cucumbers”\n",
      "View Recipe\n",
      "View “Cucumbers with Ajo Blanco Sauce”\n",
      "View Recipe\n",
      "View “Cold Beef Tenderloin with Tomatoes and Cucumbers”\n",
      "View Recipe\n",
      "View “Fried Fish Sandwiches with Cucumbers and Tartar Sauce”\n",
      "View Recipe\n",
      "View “Grain Salad with Tomatoes and Cucumbers”\n",
      "View Recipe\n",
      "View “Charred Cabbage with Goat Cheese Raita and Cucumbers”\n",
      "View Recipe\n",
      "View “Cucumber-Seaweed Salad”\n",
      "View Recipe\n",
      "View “Pineapple Shrimp Noodle Bowls”\n",
      "View Recipe\n",
      "View “Sambal Shrimp Lettuce Wraps”\n",
      "View Recipe\n",
      "View “Smashed Cucumber Salad with Lemon and Celery Salt”\n",
      "View Recipe\n",
      "View “Thai-Style Squid and Cucumber Salad”\n",
      "View Recipe\n",
      "View “Spicy Grilled Chicken with Crunchy Fennel Salad”\n",
      "View Recipe\n",
      "View “Lemon Salmon with Creamy Cucumber Salad”\n",
      "View Recipe\n",
      "View “Smashed Cucumber Salad with Hot Vinegar”\n",
      "View Recipe\n",
      "View “Sam's Spring Fattoush Salad”\n",
      "View Recipe\n",
      "View “Everything You Don't Know About Electric Knives”\n",
      "View “Skirt Steak with Spicy Coconut Dressing”\n",
      "View Recipe\n",
      "View “Weekly Meal Plan: March 11–15”\n"
     ]
    }
   ],
   "source": [
    "items = doc.find_all('a', class_= 'view-complete-item')\n",
    "for item in items:\n",
    "    \n",
    "    print(item.text)"
   ]
  },
  {
   "cell_type": "code",
   "execution_count": 9,
   "metadata": {},
   "outputs": [],
   "source": [
    "urls = doc.find_all('h3', class_='section-tile')\n",
    "for url in urls:\n",
    "    print(url)"
   ]
  },
  {
   "cell_type": "code",
   "execution_count": 14,
   "metadata": {},
   "outputs": [],
   "source": [
    "maintains = doc.find('a', class_='title') \n",
    "maintains"
   ]
  },
  {
   "cell_type": "code",
   "execution_count": 11,
   "metadata": {},
   "outputs": [],
   "source": [
    "summaries = doc.find_all('a', class_='data-itemprop')\n"
   ]
  },
  {
   "cell_type": "code",
   "execution_count": 12,
   "metadata": {},
   "outputs": [],
   "source": [
    "for summary in summaries:\n",
    "    print(summary)"
   ]
  },
  {
   "cell_type": "code",
   "execution_count": null,
   "metadata": {},
   "outputs": [],
   "source": []
  }
 ],
 "metadata": {
  "kernelspec": {
   "display_name": "Python 3",
   "language": "python",
   "name": "python3"
  },
  "language_info": {
   "codemirror_mode": {
    "name": "ipython",
    "version": 3
   },
   "file_extension": ".py",
   "mimetype": "text/x-python",
   "name": "python",
   "nbconvert_exporter": "python",
   "pygments_lexer": "ipython3",
   "version": "3.6.5"
  }
 },
 "nbformat": 4,
 "nbformat_minor": 2
}
